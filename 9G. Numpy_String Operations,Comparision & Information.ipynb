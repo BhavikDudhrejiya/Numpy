{
 "cells": [
  {
   "cell_type": "markdown",
   "metadata": {},
   "source": [
    "# String Operations, Comparison & Information"
   ]
  },
  {
   "cell_type": "code",
   "execution_count": null,
   "metadata": {},
   "outputs": [],
   "source": [
    "'''\n",
    "Adding two strings\tnp.char.add(str1,str2)\n",
    "Converting string into lower case\tnp.char.lower(str1)\n",
    "Converting string into upper case\tnp.char.upper(str1)\n",
    "Centering the string\tnp.char.center(str1,legnth of character space you want center like 60)\n",
    "Centering the string with filling on empty space\tnp.char.center(str1, ,legnth of character space,  fillchar = '*')\n",
    "Splitting string\tnp.char.split(str)\n",
    "Splitting string with \\n\tnp.char.splitlines('Bhavik\\nDudhrejiya')\n",
    "Joining the characters/ two srings with symbols\tnp.char.join([':', '/'], [str1,str2])\n",
    "Replacing characters in strings\tnp.char.replace(str1, 'what replace','value of replacement')\n",
    "comparing two strings\tnp.char.equal(str1,str2)\n",
    "Counting a characters in string\tnp.char.count(str1, 'value of character') value of character like 'Bhavik' or 'B' or 'K'\n",
    "Finding index position of a character in string\tnp.char.find(str1, 'value of character')  value of character like 'Bhavik' or 'B' or 'K'\n",
    "'''"
   ]
  },
  {
   "cell_type": "code",
   "execution_count": 16,
   "metadata": {},
   "outputs": [],
   "source": [
    "#Importing library\n",
    "import numpy as np"
   ]
  },
  {
   "cell_type": "code",
   "execution_count": 2,
   "metadata": {},
   "outputs": [
    {
     "name": "stdout",
     "output_type": "stream",
     "text": [
      "Bhavik \n",
      "Learning Numpy\n"
     ]
    }
   ],
   "source": [
    "#Creating array strings\n",
    "str1 = np.array('Bhavik ')\n",
    "str2 = np.array('Learning Numpy')\n",
    "print(str1)\n",
    "print(str2)"
   ]
  },
  {
   "cell_type": "code",
   "execution_count": 3,
   "metadata": {},
   "outputs": [
    {
     "data": {
      "text/plain": [
       "array('Bhavik Learning Numpy', dtype='<U21')"
      ]
     },
     "execution_count": 3,
     "metadata": {},
     "output_type": "execute_result"
    }
   ],
   "source": [
    "#Adding two string\n",
    "np.char.add(str1,str2)"
   ]
  },
  {
   "cell_type": "code",
   "execution_count": 4,
   "metadata": {},
   "outputs": [
    {
     "data": {
      "text/plain": [
       "array('bhavik ', dtype='<U7')"
      ]
     },
     "execution_count": 4,
     "metadata": {},
     "output_type": "execute_result"
    }
   ],
   "source": [
    "#Converting lower case of str1\n",
    "np.char.lower(str1)"
   ]
  },
  {
   "cell_type": "code",
   "execution_count": 5,
   "metadata": {},
   "outputs": [
    {
     "data": {
      "text/plain": [
       "array('LEARNING NUMPY', dtype='<U14')"
      ]
     },
     "execution_count": 5,
     "metadata": {},
     "output_type": "execute_result"
    }
   ],
   "source": [
    "#Converting upper case of str2\n",
    "np.char.upper(str2)"
   ]
  },
  {
   "cell_type": "code",
   "execution_count": 6,
   "metadata": {},
   "outputs": [
    {
     "data": {
      "text/plain": [
       "array('                          Bhavik                            ',\n",
       "      dtype='<U60')"
      ]
     },
     "execution_count": 6,
     "metadata": {},
     "output_type": "execute_result"
    }
   ],
   "source": [
    "#Centering the str1\n",
    "np.char.center(str1,60)"
   ]
  },
  {
   "cell_type": "code",
   "execution_count": 7,
   "metadata": {},
   "outputs": [
    {
     "data": {
      "text/plain": [
       "array('**************************Bhavik ***************************',\n",
       "      dtype='<U60')"
      ]
     },
     "execution_count": 7,
     "metadata": {},
     "output_type": "execute_result"
    }
   ],
   "source": [
    "#Centering the str1 with filling empty space\n",
    "np.char.center(str1,60,fillchar='*')"
   ]
  },
  {
   "cell_type": "code",
   "execution_count": 8,
   "metadata": {},
   "outputs": [
    {
     "data": {
      "text/plain": [
       "array(list(['my', 'name', 'is', 'bhavik']), dtype=object)"
      ]
     },
     "execution_count": 8,
     "metadata": {},
     "output_type": "execute_result"
    }
   ],
   "source": [
    "#Splitting strings\n",
    "str3 = np.array('my name is bhavik')\n",
    "\n",
    "np.char.split(str3)"
   ]
  },
  {
   "cell_type": "code",
   "execution_count": 9,
   "metadata": {},
   "outputs": [
    {
     "data": {
      "text/plain": [
       "array(list(['my', 'name', 'is', 'bhavik']), dtype=object)"
      ]
     },
     "execution_count": 9,
     "metadata": {},
     "output_type": "execute_result"
    }
   ],
   "source": [
    "#Splitting strings with n\\\n",
    "str4 = np.array('my\\nname\\nis\\nbhavik')\n",
    "\n",
    "np.char.splitlines(str4)"
   ]
  },
  {
   "cell_type": "code",
   "execution_count": 10,
   "metadata": {},
   "outputs": [
    {
     "data": {
      "text/plain": [
       "array(['d:m:y', 'd/m/y'], dtype='<U5')"
      ]
     },
     "execution_count": 10,
     "metadata": {},
     "output_type": "execute_result"
    }
   ],
   "source": [
    "#Joinging strings with symboles\n",
    "str5 = np.array('dmy')\n",
    "str6 = np.array('dmy')\n",
    "\n",
    "np.char.join([':','/'],[str5,str6])"
   ]
  },
  {
   "cell_type": "code",
   "execution_count": 18,
   "metadata": {},
   "outputs": [
    {
     "data": {
      "text/plain": [
       "array(['D-u-d-h-r-e-j-i-y-a'], dtype='<U19')"
      ]
     },
     "execution_count": 18,
     "metadata": {},
     "output_type": "execute_result"
    }
   ],
   "source": [
    "#Joinging strings with symboles\n",
    "str9 = np.array('-')\n",
    "str10 = np.array('Dudhrejiya')\n",
    "\n",
    "np.char.join([str9],[str10])"
   ]
  },
  {
   "cell_type": "code",
   "execution_count": 12,
   "metadata": {},
   "outputs": [
    {
     "data": {
      "text/plain": [
       "array('River Flows in You', dtype='<U18')"
      ]
     },
     "execution_count": 12,
     "metadata": {},
     "output_type": "execute_result"
    }
   ],
   "source": [
    "#Replacing characters in strings\n",
    "str7 = np.array('River Flows in you')\n",
    "\n",
    "np.char.replace(str7, 'you', 'You')"
   ]
  },
  {
   "cell_type": "code",
   "execution_count": 24,
   "metadata": {},
   "outputs": [
    {
     "data": {
      "text/plain": [
       "array(False)"
      ]
     },
     "execution_count": 24,
     "metadata": {},
     "output_type": "execute_result"
    }
   ],
   "source": [
    "#Comparing two strings\n",
    "str1 = np.array('Bhavik ')\n",
    "str2 = np.array('Learning Numpy')\n",
    "\n",
    "np.char.equal(str1,str2)"
   ]
  },
  {
   "cell_type": "code",
   "execution_count": 13,
   "metadata": {},
   "outputs": [
    {
     "data": {
      "text/plain": [
       "array(True)"
      ]
     },
     "execution_count": 13,
     "metadata": {},
     "output_type": "execute_result"
    }
   ],
   "source": [
    "#Comparing two strings\n",
    "str1 = np.array('Bhavik ')\n",
    "str2 = np.array('Bhavik')\n",
    "\n",
    "np.char.equal(str1,str2)"
   ]
  },
  {
   "cell_type": "code",
   "execution_count": 19,
   "metadata": {},
   "outputs": [
    {
     "data": {
      "text/plain": [
       "array(10)"
      ]
     },
     "execution_count": 19,
     "metadata": {},
     "output_type": "execute_result"
    }
   ],
   "source": [
    "#Counting characters in a string\n",
    "str8 = np.array('BhavikBhavikBhavikBhavikBhavikBhavikBhavikBhavikBhavikBhavik')\n",
    "np.char.count(str8,'B')"
   ]
  },
  {
   "cell_type": "code",
   "execution_count": 15,
   "metadata": {},
   "outputs": [
    {
     "data": {
      "text/plain": [
       "array(5)"
      ]
     },
     "execution_count": 15,
     "metadata": {},
     "output_type": "execute_result"
    }
   ],
   "source": [
    "#Finding index position of a character in a string\n",
    "np.char.find(str8,'k')"
   ]
  },
  {
   "cell_type": "code",
   "execution_count": null,
   "metadata": {},
   "outputs": [],
   "source": []
  }
 ],
 "metadata": {
  "kernelspec": {
   "display_name": "Python 3",
   "language": "python",
   "name": "python3"
  },
  "language_info": {
   "codemirror_mode": {
    "name": "ipython",
    "version": 3
   },
   "file_extension": ".py",
   "mimetype": "text/x-python",
   "name": "python",
   "nbconvert_exporter": "python",
   "pygments_lexer": "ipython3",
   "version": "3.8.6"
  },
  "toc": {
   "base_numbering": 1,
   "nav_menu": {},
   "number_sections": true,
   "sideBar": true,
   "skip_h1_title": false,
   "title_cell": "Table of Contents",
   "title_sidebar": "Contents",
   "toc_cell": false,
   "toc_position": {},
   "toc_section_display": true,
   "toc_window_display": false
  }
 },
 "nbformat": 4,
 "nbformat_minor": 4
}

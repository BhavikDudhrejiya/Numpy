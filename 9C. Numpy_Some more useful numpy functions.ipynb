{
 "cells": [
  {
   "cell_type": "code",
   "execution_count": 1,
   "metadata": {},
   "outputs": [],
   "source": [
    "#Importing library\n",
    "import numpy as np"
   ]
  },
  {
   "cell_type": "code",
   "execution_count": 2,
   "metadata": {},
   "outputs": [
    {
     "data": {
      "text/plain": [
       "array([ 2, 80,  1, 97,  5])"
      ]
     },
     "execution_count": 2,
     "metadata": {},
     "output_type": "execute_result"
    }
   ],
   "source": [
    "#Creating an array\n",
    "arr = np.array([2,80,1,97,5])\n",
    "arr"
   ]
  },
  {
   "cell_type": "code",
   "execution_count": 3,
   "metadata": {},
   "outputs": [
    {
     "data": {
      "text/plain": [
       "1"
      ]
     },
     "execution_count": 3,
     "metadata": {},
     "output_type": "execute_result"
    }
   ],
   "source": [
    "#Finding minimum value\n",
    "np.min(arr)"
   ]
  },
  {
   "cell_type": "code",
   "execution_count": 4,
   "metadata": {},
   "outputs": [
    {
     "data": {
      "text/plain": [
       "97"
      ]
     },
     "execution_count": 4,
     "metadata": {},
     "output_type": "execute_result"
    }
   ],
   "source": [
    "#Finding maximum value\n",
    "np.max(arr)"
   ]
  },
  {
   "cell_type": "code",
   "execution_count": 5,
   "metadata": {},
   "outputs": [
    {
     "data": {
      "text/plain": [
       "2"
      ]
     },
     "execution_count": 5,
     "metadata": {},
     "output_type": "execute_result"
    }
   ],
   "source": [
    "#Finding position of minimum value\n",
    "np.argmin(arr)\n",
    "#Minimum value has placed on 2nd position"
   ]
  },
  {
   "cell_type": "code",
   "execution_count": 7,
   "metadata": {},
   "outputs": [
    {
     "data": {
      "text/plain": [
       "3"
      ]
     },
     "execution_count": 7,
     "metadata": {},
     "output_type": "execute_result"
    }
   ],
   "source": [
    "#Finding position of maximum value\n",
    "np.argmax(arr)\n",
    "#Maximum value has placed on 3rd position"
   ]
  },
  {
   "cell_type": "code",
   "execution_count": 8,
   "metadata": {},
   "outputs": [
    {
     "data": {
      "text/plain": [
       "array([1.41421356, 8.94427191, 1.        , 9.8488578 , 2.23606798])"
      ]
     },
     "execution_count": 8,
     "metadata": {},
     "output_type": "execute_result"
    }
   ],
   "source": [
    "#Computing square root of an array\n",
    "np.sqrt(arr)"
   ]
  },
  {
   "cell_type": "code",
   "execution_count": 9,
   "metadata": {},
   "outputs": [
    {
     "data": {
      "text/plain": [
       "array([7.38905610e+00, 5.54062238e+34, 2.71828183e+00, 1.33833472e+42,\n",
       "       1.48413159e+02])"
      ]
     },
     "execution_count": 9,
     "metadata": {},
     "output_type": "execute_result"
    }
   ],
   "source": [
    "#Computing exponentiation\n",
    "np.exp(arr)\n",
    "#It will calculate euler number 2.7182818284590452353602874713527 power of each numbers in array"
   ]
  },
  {
   "cell_type": "code",
   "execution_count": 11,
   "metadata": {},
   "outputs": [
    {
     "name": "stdout",
     "output_type": "stream",
     "text": [
      "7.3890560989306495\n",
      "5.540622384393487e+34\n",
      "2.718281828459045\n",
      "1.3383347192042626e+42\n",
      "148.41315910257657\n"
     ]
    }
   ],
   "source": [
    "#Mathametical computation for checking\n",
    "print(2.7182818284590452353602874713527**2)\n",
    "print(2.7182818284590452353602874713527**80)\n",
    "print(2.7182818284590452353602874713527**1)\n",
    "print(2.7182818284590452353602874713527**97)\n",
    "print(2.7182818284590452353602874713527**5)"
   ]
  },
  {
   "cell_type": "code",
   "execution_count": 12,
   "metadata": {},
   "outputs": [
    {
     "data": {
      "text/plain": [
       "array([ 0.90929743, -0.99388865,  0.84147098,  0.37960774, -0.95892427])"
      ]
     },
     "execution_count": 12,
     "metadata": {},
     "output_type": "execute_result"
    }
   ],
   "source": [
    "#Computing sin\n",
    "np.sin(arr)"
   ]
  },
  {
   "cell_type": "code",
   "execution_count": 13,
   "metadata": {},
   "outputs": [
    {
     "data": {
      "text/plain": [
       "array([-0.41614684, -0.11038724,  0.54030231, -0.92514754,  0.28366219])"
      ]
     },
     "execution_count": 13,
     "metadata": {},
     "output_type": "execute_result"
    }
   ],
   "source": [
    "#Computing cos\n",
    "np.cos(arr)"
   ]
  },
  {
   "cell_type": "code",
   "execution_count": 14,
   "metadata": {},
   "outputs": [
    {
     "data": {
      "text/plain": [
       "array([-2.18503986,  9.00365495,  1.55740772, -0.4103213 , -3.38051501])"
      ]
     },
     "execution_count": 14,
     "metadata": {},
     "output_type": "execute_result"
    }
   ],
   "source": [
    "#Computing tan\n",
    "np.tan(arr)"
   ]
  },
  {
   "cell_type": "code",
   "execution_count": 15,
   "metadata": {},
   "outputs": [
    {
     "data": {
      "text/plain": [
       "array([ 1.        ,  1.28571429,  1.57142857,  1.85714286,  2.14285714,\n",
       "        2.42857143,  2.71428571,  3.        ,  3.28571429,  3.57142857,\n",
       "        3.85714286,  4.14285714,  4.42857143,  4.71428571,  5.        ,\n",
       "        5.28571429,  5.57142857,  5.85714286,  6.14285714,  6.42857143,\n",
       "        6.71428571,  7.        ,  7.28571429,  7.57142857,  7.85714286,\n",
       "        8.14285714,  8.42857143,  8.71428571,  9.        ,  9.28571429,\n",
       "        9.57142857,  9.85714286, 10.14285714, 10.42857143, 10.71428571,\n",
       "       11.        , 11.28571429, 11.57142857, 11.85714286, 12.14285714,\n",
       "       12.42857143, 12.71428571, 13.        , 13.28571429, 13.57142857,\n",
       "       13.85714286, 14.14285714, 14.42857143, 14.71428571, 15.        ])"
      ]
     },
     "execution_count": 15,
     "metadata": {},
     "output_type": "execute_result"
    }
   ],
   "source": [
    "#From 1 to 15 range of a number require 50 numbers\n",
    "np.linspace(1,15,50)"
   ]
  },
  {
   "cell_type": "code",
   "execution_count": 16,
   "metadata": {},
   "outputs": [
    {
     "data": {
      "text/plain": [
       "array([ 1.  , 13.25, 25.5 , 37.75, 50.  ])"
      ]
     },
     "execution_count": 16,
     "metadata": {},
     "output_type": "execute_result"
    }
   ],
   "source": [
    "#From 1 to 50 range of a number require 5 numbers\n",
    "np.linspace(1,50,5)"
   ]
  },
  {
   "cell_type": "code",
   "execution_count": 17,
   "metadata": {},
   "outputs": [
    {
     "data": {
      "text/plain": [
       "array([1, 2, 3, 0])"
      ]
     },
     "execution_count": 17,
     "metadata": {},
     "output_type": "execute_result"
    }
   ],
   "source": [
    "#Creating an array\n",
    "arr2 = np.array([1,2,3,0])\n",
    "arr2"
   ]
  },
  {
   "cell_type": "code",
   "execution_count": 18,
   "metadata": {},
   "outputs": [
    {
     "data": {
      "text/plain": [
       "array([ True,  True,  True, False])"
      ]
     },
     "execution_count": 18,
     "metadata": {},
     "output_type": "execute_result"
    }
   ],
   "source": [
    "#Creating array and defining the data type bool\n",
    "arr2 = np.array([1,2,3,0],dtype = 'bool')\n",
    "arr2"
   ]
  },
  {
   "cell_type": "code",
   "execution_count": 19,
   "metadata": {},
   "outputs": [
    {
     "data": {
      "text/plain": [
       "array([1., 2., 3., 0.])"
      ]
     },
     "execution_count": 19,
     "metadata": {},
     "output_type": "execute_result"
    }
   ],
   "source": [
    "#Creating array and defining the data type float\n",
    "arr2 = np.array([1,2,3,0],dtype = 'float')\n",
    "arr2"
   ]
  },
  {
   "cell_type": "code",
   "execution_count": 22,
   "metadata": {},
   "outputs": [
    {
     "data": {
      "text/plain": [
       "array(['1', '2', '3', '0'], dtype='<U1')"
      ]
     },
     "execution_count": 22,
     "metadata": {},
     "output_type": "execute_result"
    }
   ],
   "source": [
    "#Creating array and defining the data type string\n",
    "arr2 = np.array([1,2,3,0],dtype = 'str')\n",
    "arr2"
   ]
  },
  {
   "cell_type": "code",
   "execution_count": 25,
   "metadata": {},
   "outputs": [
    {
     "data": {
      "text/plain": [
       "array([False,  True, False,  True,  True,  True, False, False,  True])"
      ]
     },
     "execution_count": 25,
     "metadata": {},
     "output_type": "execute_result"
    }
   ],
   "source": [
    "#Creating array and defining the data type string\n",
    "arr3 = np.array([0,1,0,1,1,1,0,0,1],dtype = 'bool')\n",
    "arr3"
   ]
  },
  {
   "cell_type": "code",
   "execution_count": 27,
   "metadata": {},
   "outputs": [
    {
     "name": "stdout",
     "output_type": "stream",
     "text": [
      "False\n",
      "True\n",
      "False\n",
      "True\n",
      "True\n",
      "True\n",
      "False\n",
      "False\n",
      "True\n"
     ]
    }
   ],
   "source": [
    "#Using for loop in array\n",
    "for i in arr3:\n",
    "    print(i)"
   ]
  }
 ],
 "metadata": {
  "kernelspec": {
   "display_name": "Python 3",
   "language": "python",
   "name": "python3"
  },
  "language_info": {
   "codemirror_mode": {
    "name": "ipython",
    "version": 3
   },
   "file_extension": ".py",
   "mimetype": "text/x-python",
   "name": "python",
   "nbconvert_exporter": "python",
   "pygments_lexer": "ipython3",
   "version": "3.8.6"
  }
 },
 "nbformat": 4,
 "nbformat_minor": 4
}

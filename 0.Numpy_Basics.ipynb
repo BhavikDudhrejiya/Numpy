{
 "cells": [
  {
   "cell_type": "code",
   "execution_count": 1,
   "metadata": {},
   "outputs": [],
   "source": [
    "#Importing Numpy Library\n",
    "import numpy as np"
   ]
  },
  {
   "cell_type": "code",
   "execution_count": 2,
   "metadata": {},
   "outputs": [
    {
     "name": "stdout",
     "output_type": "stream",
     "text": [
      "1.19.2\n"
     ]
    }
   ],
   "source": [
    "#Checking the version of Numpy\n",
    "print(np.__version__)"
   ]
  },
  {
   "cell_type": "markdown",
   "metadata": {},
   "source": [
    "# List of functions of numpy array"
   ]
  },
  {
   "attachments": {},
   "cell_type": "markdown",
   "metadata": {},
   "source": [
    "np.array()\n",
    "arr.ndim\n",
    "arr.shape\n",
    "arr.dtype\n",
    "arr.size\n",
    "np.zeros()\n",
    "np.ones()\n",
    "np.empty()\n",
    "np.eye()\n",
    "np.diag()\n",
    "np.random.seed()\n",
    "np.random.random() or np.random.rand()\n",
    "np.random.randint()\n",
    "np.random.randn()\n",
    "np.random.choice()\n",
    "np.random.permutation()\n",
    "np.random.shuffle()\n",
    "np.unique()\n",
    "arr.reshape()\n",
    "np.arange()\n",
    "np.linspace()\n",
    "arr.ravel()\n",
    "arr.flatten()\n",
    "arr.transpose() or arr.T\n",
    "np.add()\n",
    "np.subtract()\n",
    "np.divide()\n",
    "np.multiply()\n",
    "arr.dot()\n",
    "np.prod()\n",
    "arr.max()\n",
    "arr.argmax()\n",
    "arr.min()\n",
    "arr.argmin()\n",
    "np.sum()\n",
    "np.cumsum()\n",
    "np.mean()\n",
    "np.sqrt()\n",
    "np.std()\n",
    "np.exp()\n",
    "np.log()\n",
    "np.log10()\n",
    "array[row index num, col index num]\n",
    "array[row index num, col index num].ndim\n",
    "array[row index num]\n",
    "array[row index num:row index num]\n",
    "array[:, col index num]\n",
    "array[:, col index num:col index num]\n",
    "array[:, col index num : col index num]\n",
    "array[row index num, col index num : col index num]\n",
    "array[row index num : row index num, col index num : col index num]\n",
    "array[ : ]\n",
    "array[ ::]\n",
    "array[:,:]\n",
    "array.itemsize\n",
    "np.concatenate()\n",
    "np.vstack()\n",
    "np.hstack()\n",
    "np.split()\n",
    "np.sin()\n",
    "np.cos()\n",
    "np.tan()\n",
    "np.char.add()\n",
    "np.char.lower()\n",
    "np.char.upper()\n",
    "np.char.center()\n",
    "np.char.split()\n",
    "np.char.splitlines()\n",
    "np.char.join()\n",
    "np.char.replace()\n",
    "np.char.equal()\n",
    "np.char.count()\n",
    "np.char.find()"
   ]
  }
 ],
 "metadata": {
  "kernelspec": {
   "display_name": "Python 3",
   "language": "python",
   "name": "python3"
  },
  "language_info": {
   "codemirror_mode": {
    "name": "ipython",
    "version": 3
   },
   "file_extension": ".py",
   "mimetype": "text/x-python",
   "name": "python",
   "nbconvert_exporter": "python",
   "pygments_lexer": "ipython3",
   "version": "3.8.6"
  }
 },
 "nbformat": 4,
 "nbformat_minor": 4
}

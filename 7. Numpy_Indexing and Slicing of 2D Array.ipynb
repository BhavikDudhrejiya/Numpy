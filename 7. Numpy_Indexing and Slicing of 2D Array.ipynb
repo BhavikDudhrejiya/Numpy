{
 "cells": [
  {
   "cell_type": "code",
   "execution_count": 1,
   "metadata": {},
   "outputs": [],
   "source": [
    "#Importing library\n",
    "import numpy as np"
   ]
  },
  {
   "cell_type": "code",
   "execution_count": 2,
   "metadata": {},
   "outputs": [
    {
     "data": {
      "text/plain": [
       "array([[ 5, 10, 15],\n",
       "       [20, 25, 30],\n",
       "       [35, 40, 45]])"
      ]
     },
     "execution_count": 2,
     "metadata": {},
     "output_type": "execute_result"
    }
   ],
   "source": [
    "#Creating array\n",
    "matrix = np.array([[5,10,15],\n",
    "                  [20,25,30],\n",
    "                  [35,40,45]])\n",
    "matrix"
   ]
  },
  {
   "cell_type": "markdown",
   "metadata": {},
   "source": [
    "# INDEXING USING DOUBLE BRACKET NOTATION"
   ]
  },
  {
   "cell_type": "code",
   "execution_count": 15,
   "metadata": {},
   "outputs": [
    {
     "name": "stdout",
     "output_type": "stream",
     "text": [
      "5\n",
      "10\n",
      "15\n",
      "20\n",
      "25\n",
      "30\n",
      "35\n",
      "40\n",
      "45\n"
     ]
    }
   ],
   "source": [
    "#Select each elements one by one\n",
    "print(matrix[0][0]) #[Array index] [ Element Index]\n",
    "print(matrix[0][1])\n",
    "print(matrix[0][2])\n",
    "print(matrix[1][0])\n",
    "print(matrix[1][1])\n",
    "print(matrix[1][2])\n",
    "print(matrix[2][0])\n",
    "print(matrix[2][1])\n",
    "print(matrix[2][2])\n",
    "\n",
    "#First bracket indicates array index and second bracket indicate element index"
   ]
  },
  {
   "cell_type": "markdown",
   "metadata": {},
   "source": [
    "# INDEXING USING SINGLE BRACKET NOTATION"
   ]
  },
  {
   "cell_type": "code",
   "execution_count": 16,
   "metadata": {},
   "outputs": [
    {
     "data": {
      "text/plain": [
       "array([[ 5, 10, 15],\n",
       "       [20, 25, 30],\n",
       "       [35, 40, 45]])"
      ]
     },
     "execution_count": 16,
     "metadata": {},
     "output_type": "execute_result"
    }
   ],
   "source": [
    "#View the matrix\n",
    "matrix"
   ]
  },
  {
   "cell_type": "code",
   "execution_count": 23,
   "metadata": {},
   "outputs": [
    {
     "name": "stdout",
     "output_type": "stream",
     "text": [
      "5\n",
      "10\n",
      "15\n",
      "20\n",
      "25\n",
      "30\n",
      "35\n",
      "40\n",
      "45\n"
     ]
    }
   ],
   "source": [
    "#Select each elements one by one\n",
    "print(matrix[0,0])\n",
    "print(matrix[0,1])\n",
    "print(matrix[0,2])\n",
    "print(matrix[1,0])\n",
    "print(matrix[1,1])\n",
    "print(matrix[1,2])\n",
    "print(matrix[2,0])\n",
    "print(matrix[2,1])\n",
    "print(matrix[2,2])"
   ]
  },
  {
   "cell_type": "markdown",
   "metadata": {},
   "source": [
    "# SLICING USING SINGLE BRACKET NOTATION"
   ]
  },
  {
   "cell_type": "code",
   "execution_count": 25,
   "metadata": {},
   "outputs": [
    {
     "data": {
      "text/plain": [
       "array([[ 5, 10, 15],\n",
       "       [20, 25, 30],\n",
       "       [35, 40, 45]])"
      ]
     },
     "execution_count": 25,
     "metadata": {},
     "output_type": "execute_result"
    }
   ],
   "source": [
    "#View the array\n",
    "matrix\n",
    "#0,1,2 ---0\n",
    "#0,1,2 ---1\n",
    "#0,1,2 ---2"
   ]
  },
  {
   "cell_type": "code",
   "execution_count": 26,
   "metadata": {},
   "outputs": [
    {
     "data": {
      "text/plain": [
       "array([[ 5, 10],\n",
       "       [20, 25]])"
      ]
     },
     "execution_count": 26,
     "metadata": {},
     "output_type": "execute_result"
    }
   ],
   "source": [
    "#Selecting 5,10,20,25 from above array\n",
    "matrix[:2,:2]\n",
    "\n",
    "#5,10 - Selecting 0 for first row\n",
    "#20,25- Selecting 2 for second row\n",
    "#5,20 - Selecting 0 for first column\n",
    "#10,25 - Selecting 2 for second column"
   ]
  },
  {
   "cell_type": "code",
   "execution_count": 68,
   "metadata": {},
   "outputs": [
    {
     "data": {
      "text/plain": [
       "array([[10, 15],\n",
       "       [25, 30]])"
      ]
     },
     "execution_count": 68,
     "metadata": {},
     "output_type": "execute_result"
    }
   ],
   "source": [
    "#Select 10,15,25,30\n",
    "matrix[0:2,1:3]\n",
    "\n",
    "#10,15 - Selecting 0 for first row\n",
    "#25,30 - Selecting 2 for second row\n",
    "#10,25 - Selecting 1 for first column\n",
    "#15,30 - Selecting 3 for second column"
   ]
  },
  {
   "cell_type": "code",
   "execution_count": 69,
   "metadata": {},
   "outputs": [
    {
     "data": {
      "text/plain": [
       "array([[ 5, 10, 15],\n",
       "       [20, 25, 30],\n",
       "       [35, 40, 45]])"
      ]
     },
     "execution_count": 69,
     "metadata": {},
     "output_type": "execute_result"
    }
   ],
   "source": [
    "#View array\n",
    "matrix"
   ]
  },
  {
   "cell_type": "code",
   "execution_count": 70,
   "metadata": {},
   "outputs": [
    {
     "data": {
      "text/plain": [
       "array([[20, 25],\n",
       "       [35, 40]])"
      ]
     },
     "execution_count": 70,
     "metadata": {},
     "output_type": "execute_result"
    }
   ],
   "source": [
    "#Selecting 20,25,35,40\n",
    "matrix[1:3,0:2]\n",
    "\n",
    "#20,25 - Selecting 1 for first row\n",
    "#35,40 - Selecting 3 for second row\n",
    "#20,35 - Selecting 0 for first column\n",
    "#25,40 - Selecting 2 for second column"
   ]
  },
  {
   "cell_type": "code",
   "execution_count": 71,
   "metadata": {},
   "outputs": [
    {
     "data": {
      "text/plain": [
       "array([[67, 93, 99, 18, 84],\n",
       "       [58, 87, 98, 97, 48],\n",
       "       [74, 33, 47, 97, 26],\n",
       "       [84, 79, 37, 97, 81],\n",
       "       [69, 50, 56, 68,  3]])"
      ]
     },
     "execution_count": 71,
     "metadata": {},
     "output_type": "execute_result"
    }
   ],
   "source": [
    "#Creating new matrix 5 by 5\n",
    "np.random.seed(123)\n",
    "matrix2 = np.random.randint(1,101,25).reshape(5,5)\n",
    "matrix2"
   ]
  },
  {
   "cell_type": "code",
   "execution_count": 72,
   "metadata": {},
   "outputs": [
    {
     "data": {
      "text/plain": [
       "array([[47, 97, 26],\n",
       "       [37, 97, 81]])"
      ]
     },
     "execution_count": 72,
     "metadata": {},
     "output_type": "execute_result"
    }
   ],
   "source": [
    "#Extract number 47,97,26,37,97,81\n",
    "matrix2[2:4,2:5]\n",
    "\n",
    "#47,97,26 - Selecting 2 for 2nd row\n",
    "#37,97,81 - Selecting 4 for 3rd row\n",
    "#47,37,97,97 - Selecting 2 for 2nd column\n",
    "#97,97,26,81 - Selecting 5 for 4th column"
   ]
  }
 ],
 "metadata": {
  "kernelspec": {
   "display_name": "Python 3",
   "language": "python",
   "name": "python3"
  },
  "language_info": {
   "codemirror_mode": {
    "name": "ipython",
    "version": 3
   },
   "file_extension": ".py",
   "mimetype": "text/x-python",
   "name": "python",
   "nbconvert_exporter": "python",
   "pygments_lexer": "ipython3",
   "version": "3.8.6"
  }
 },
 "nbformat": 4,
 "nbformat_minor": 4
}

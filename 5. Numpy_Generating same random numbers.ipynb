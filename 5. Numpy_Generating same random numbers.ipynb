{
 "cells": [
  {
   "cell_type": "code",
   "execution_count": 1,
   "metadata": {},
   "outputs": [],
   "source": [
    "#Importing library\n",
    "import numpy as np"
   ]
  },
  {
   "cell_type": "code",
   "execution_count": 8,
   "metadata": {},
   "outputs": [
    {
     "data": {
      "text/plain": [
       "array([ 69, 100,   3,  41,  42,   7,  98,  92,  26,  29,  28,  11,  67,\n",
       "        42,  97,  98,  80,  67,   5,  85,  54,  52,  46,  50,  81,  31,\n",
       "        18,  25,  90,  98,  83,  31,  17,  36,  90,  66,  12,  94,  52,\n",
       "        45,  27,  80,  88,  60,   4,  74,  47,  62,  69,  49])"
      ]
     },
     "execution_count": 8,
     "metadata": {},
     "output_type": "execute_result"
    }
   ],
   "source": [
    "#Generating random numbers\n",
    "arr = np.random.randint(1,101,50)\n",
    "arr\n",
    "#Every time I press enter, the numbers are change due to which I am not be able to generate same random number again & again"
   ]
  },
  {
   "cell_type": "code",
   "execution_count": 22,
   "metadata": {},
   "outputs": [
    {
     "data": {
      "text/plain": [
       "array([ 67,  93,  99,  18,  84,  58,  87,  98,  97,  48,  74,  33,  47,\n",
       "        97,  26,  84,  79,  37,  97,  81,  69,  50,  56,  68,   3,  85,\n",
       "        40,  67,  85,  48,  62,  49,   8, 100,  93,  53,  98,  86,  95,\n",
       "        28,  35,  98,  77,  41,   4,  70,  65,  76,  35,  59])"
      ]
     },
     "execution_count": 22,
     "metadata": {},
     "output_type": "execute_result"
    }
   ],
   "source": [
    "#Fixing the reproduction of random number\n",
    "np.random.seed(123)\n",
    "arr1 = np.random.randint(1,101,50)\n",
    "arr1"
   ]
  },
  {
   "cell_type": "code",
   "execution_count": 24,
   "metadata": {},
   "outputs": [
    {
     "data": {
      "text/plain": [
       "50"
      ]
     },
     "execution_count": 24,
     "metadata": {},
     "output_type": "execute_result"
    }
   ],
   "source": [
    "#Finding a size of an array\n",
    "arr.size\n",
    "#We have 50 random numbers in our array"
   ]
  },
  {
   "cell_type": "code",
   "execution_count": 27,
   "metadata": {},
   "outputs": [
    {
     "data": {
      "text/plain": [
       "array([[ 67,  93,  99,  18,  84,  58,  87,  98,  97,  48],\n",
       "       [ 74,  33,  47,  97,  26,  84,  79,  37,  97,  81],\n",
       "       [ 69,  50,  56,  68,   3,  85,  40,  67,  85,  48],\n",
       "       [ 62,  49,   8, 100,  93,  53,  98,  86,  95,  28],\n",
       "       [ 35,  98,  77,  41,   4,  70,  65,  76,  35,  59]])"
      ]
     },
     "execution_count": 27,
     "metadata": {},
     "output_type": "execute_result"
    }
   ],
   "source": [
    "#Fixing the reproduction of random number\n",
    "np.random.seed(123)\n",
    "#Creating 50 random numbers from the range 1 to 100 with 2D dimension\n",
    "arr2 = np.random.randint(1,101,50).reshape(5,10)\n",
    "arr2\n",
    "\n",
    "#Five rows and 10 columns"
   ]
  },
  {
   "cell_type": "code",
   "execution_count": 28,
   "metadata": {},
   "outputs": [
    {
     "data": {
      "text/plain": [
       "50"
      ]
     },
     "execution_count": 28,
     "metadata": {},
     "output_type": "execute_result"
    }
   ],
   "source": [
    "#Finding a size of an array\n",
    "arr2.size\n",
    "#We have 50 random numbers in our array"
   ]
  }
 ],
 "metadata": {
  "kernelspec": {
   "display_name": "Python 3",
   "language": "python",
   "name": "python3"
  },
  "language_info": {
   "codemirror_mode": {
    "name": "ipython",
    "version": 3
   },
   "file_extension": ".py",
   "mimetype": "text/x-python",
   "name": "python",
   "nbconvert_exporter": "python",
   "pygments_lexer": "ipython3",
   "version": "3.8.6"
  }
 },
 "nbformat": 4,
 "nbformat_minor": 4
}

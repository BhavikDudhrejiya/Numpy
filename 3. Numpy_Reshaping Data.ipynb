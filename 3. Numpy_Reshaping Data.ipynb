{
 "cells": [
  {
   "cell_type": "markdown",
   "metadata": {},
   "source": [
    "# RESHAPE FUNCTION"
   ]
  },
  {
   "cell_type": "code",
   "execution_count": 3,
   "metadata": {},
   "outputs": [],
   "source": [
    "#Importing library\n",
    "import numpy as np"
   ]
  },
  {
   "cell_type": "code",
   "execution_count": 4,
   "metadata": {},
   "outputs": [
    {
     "data": {
      "text/plain": [
       "array([78, 18, 74, 60, 81, 83, 86, 99, 18, 50, 64, 68, 78, 57, 83, 88, 75,\n",
       "       85, 42, 67])"
      ]
     },
     "execution_count": 4,
     "metadata": {},
     "output_type": "execute_result"
    }
   ],
   "source": [
    "#Generating 20 random numbers from 1 to 100 \n",
    "arr = np.random.randint(1,100,20)\n",
    "arr"
   ]
  },
  {
   "cell_type": "code",
   "execution_count": 7,
   "metadata": {},
   "outputs": [
    {
     "data": {
      "text/plain": [
       "1"
      ]
     },
     "execution_count": 7,
     "metadata": {},
     "output_type": "execute_result"
    }
   ],
   "source": [
    "#Checking the dimension of array\n",
    "arr.ndim\n",
    "#Here this is 1D dimension"
   ]
  },
  {
   "cell_type": "code",
   "execution_count": 10,
   "metadata": {},
   "outputs": [
    {
     "data": {
      "text/plain": [
       "array([[78, 18, 74, 60, 81, 83, 86, 99, 18, 50],\n",
       "       [64, 68, 78, 57, 83, 88, 75, 85, 42, 67]])"
      ]
     },
     "execution_count": 10,
     "metadata": {},
     "output_type": "execute_result"
    }
   ],
   "source": [
    "#Converting this 1D array into 2D by using reshape function\n",
    "arr1 = arr.reshape(2,10) # 2 * 10 = 20\n",
    "arr1\n",
    "#Number of rows multipy by number of column should have equals to numbers of random numbers generated"
   ]
  },
  {
   "cell_type": "code",
   "execution_count": 11,
   "metadata": {},
   "outputs": [
    {
     "data": {
      "text/plain": [
       "2"
      ]
     },
     "execution_count": 11,
     "metadata": {},
     "output_type": "execute_result"
    }
   ],
   "source": [
    "#Checking the dimension of \n",
    "arr1.ndim\n",
    "#Here this is a 2D dimension"
   ]
  },
  {
   "cell_type": "code",
   "execution_count": 12,
   "metadata": {},
   "outputs": [
    {
     "data": {
      "text/plain": [
       "array([78, 18, 74, 60, 81, 83, 86, 99, 18, 50, 64, 68, 78, 57, 83, 88, 75,\n",
       "       85, 42, 67])"
      ]
     },
     "execution_count": 12,
     "metadata": {},
     "output_type": "execute_result"
    }
   ],
   "source": [
    "#Converting 2D dimension array into 1D dimension\n",
    "arr1 = arr1.reshape(20)\n",
    "arr1"
   ]
  },
  {
   "cell_type": "code",
   "execution_count": 25,
   "metadata": {},
   "outputs": [
    {
     "data": {
      "text/plain": [
       "array([312, 115, 334, 142, 425, 262, 303, 120, 396, 471, 259, 315, 314,\n",
       "       491, 112, 304, 241, 197, 287, 125,  80,  48, 196, 457, 284,  22,\n",
       "       197, 276, 439, 288, 401, 339, 172, 431, 300, 435, 493, 417, 279,\n",
       "       266,  19, 366,  95, 213,  98, 290, 230, 240, 118, 132, 416, 345,\n",
       "       321, 395,   2, 278, 389, 453, 381, 332, 306, 341,  86, 113, 378,\n",
       "       322, 360, 146,  30, 156, 188,  67, 376, 479, 468, 433,  58, 469,\n",
       "       196,  78, 217, 211, 484, 222, 117, 235,  69, 381,   7, 339, 407,\n",
       "       170, 161, 431,  86, 274, 423, 187,  30, 415])"
      ]
     },
     "execution_count": 25,
     "metadata": {},
     "output_type": "execute_result"
    }
   ],
   "source": [
    "#Generating 100 numbers from 1 to 500 range\n",
    "arr2 = np.random.randint(1,500,100)\n",
    "arr2"
   ]
  },
  {
   "cell_type": "code",
   "execution_count": 19,
   "metadata": {},
   "outputs": [
    {
     "data": {
      "text/plain": [
       "array([[427,  67, 346, 236, 221,  38, 333, 327, 425, 199, 164, 340,  91,\n",
       "         44, 192,  25, 311, 431, 178, 274, 399,  67,  97, 439, 227,  82,\n",
       "        100, 120, 252, 132,  73, 480, 448, 124, 304, 490, 311, 433, 144,\n",
       "        110, 198, 396, 466, 267,   1,  19,  52, 481, 375, 353],\n",
       "       [431, 268, 183, 401, 103, 188, 324, 257, 308, 364, 140, 324, 217,\n",
       "        337, 119, 300, 372,  60, 420, 216, 278,  88, 102,  63, 371, 477,\n",
       "        494, 392, 351, 142, 418, 130, 458, 131, 212, 478, 468, 371, 471,\n",
       "        481,  58,  39, 238, 108, 336, 140, 213, 450, 168,  12]])"
      ]
     },
     "execution_count": 19,
     "metadata": {},
     "output_type": "execute_result"
    }
   ],
   "source": [
    "#Converting this array into 2D dimension\n",
    "arr2 = arr2.reshape(2,50)\n",
    "arr2"
   ]
  },
  {
   "cell_type": "code",
   "execution_count": 20,
   "metadata": {},
   "outputs": [
    {
     "data": {
      "text/plain": [
       "2"
      ]
     },
     "execution_count": 20,
     "metadata": {},
     "output_type": "execute_result"
    }
   ],
   "source": [
    "#Checking the dimension\n",
    "arr2.ndim"
   ]
  },
  {
   "cell_type": "code",
   "execution_count": 23,
   "metadata": {},
   "outputs": [
    {
     "data": {
      "text/plain": [
       "array([427,  67, 346, 236, 221,  38, 333, 327, 425, 199, 164, 340,  91,\n",
       "        44, 192,  25, 311, 431, 178, 274, 399,  67,  97, 439, 227,  82,\n",
       "       100, 120, 252, 132,  73, 480, 448, 124, 304, 490, 311, 433, 144,\n",
       "       110, 198, 396, 466, 267,   1,  19,  52, 481, 375, 353, 431, 268,\n",
       "       183, 401, 103, 188, 324, 257, 308, 364, 140, 324, 217, 337, 119,\n",
       "       300, 372,  60, 420, 216, 278,  88, 102,  63, 371, 477, 494, 392,\n",
       "       351, 142, 418, 130, 458, 131, 212, 478, 468, 371, 471, 481,  58,\n",
       "        39, 238, 108, 336, 140, 213, 450, 168,  12])"
      ]
     },
     "execution_count": 23,
     "metadata": {},
     "output_type": "execute_result"
    }
   ],
   "source": [
    "#Converting 2D to 1D dimension\n",
    "arr2 = arr2.reshape(100)\n",
    "arr2"
   ]
  },
  {
   "cell_type": "code",
   "execution_count": 29,
   "metadata": {},
   "outputs": [
    {
     "data": {
      "text/plain": [
       "array([[[312, 115, 334, 142, 425],\n",
       "        [262, 303, 120, 396, 471],\n",
       "        [259, 315, 314, 491, 112],\n",
       "        [304, 241, 197, 287, 125],\n",
       "        [ 80,  48, 196, 457, 284]],\n",
       "\n",
       "       [[ 22, 197, 276, 439, 288],\n",
       "        [401, 339, 172, 431, 300],\n",
       "        [435, 493, 417, 279, 266],\n",
       "        [ 19, 366,  95, 213,  98],\n",
       "        [290, 230, 240, 118, 132]],\n",
       "\n",
       "       [[416, 345, 321, 395,   2],\n",
       "        [278, 389, 453, 381, 332],\n",
       "        [306, 341,  86, 113, 378],\n",
       "        [322, 360, 146,  30, 156],\n",
       "        [188,  67, 376, 479, 468]],\n",
       "\n",
       "       [[433,  58, 469, 196,  78],\n",
       "        [217, 211, 484, 222, 117],\n",
       "        [235,  69, 381,   7, 339],\n",
       "        [407, 170, 161, 431,  86],\n",
       "        [274, 423, 187,  30, 415]]])"
      ]
     },
     "execution_count": 29,
     "metadata": {},
     "output_type": "execute_result"
    }
   ],
   "source": [
    "#Creating 3D dimesion array\n",
    "arr3 = arr2.reshape(4,5,5)\n",
    "arr3"
   ]
  },
  {
   "cell_type": "code",
   "execution_count": 30,
   "metadata": {},
   "outputs": [
    {
     "data": {
      "text/plain": [
       "3"
      ]
     },
     "execution_count": 30,
     "metadata": {},
     "output_type": "execute_result"
    }
   ],
   "source": [
    "#Checking dimension\n",
    "arr3.ndim"
   ]
  },
  {
   "cell_type": "code",
   "execution_count": 32,
   "metadata": {},
   "outputs": [
    {
     "data": {
      "text/plain": [
       "array([312, 115, 334, 142, 425, 262, 303, 120, 396, 471, 259, 315, 314,\n",
       "       491, 112, 304, 241, 197, 287, 125,  80,  48, 196, 457, 284,  22,\n",
       "       197, 276, 439, 288, 401, 339, 172, 431, 300, 435, 493, 417, 279,\n",
       "       266,  19, 366,  95, 213,  98, 290, 230, 240, 118, 132, 416, 345,\n",
       "       321, 395,   2, 278, 389, 453, 381, 332, 306, 341,  86, 113, 378,\n",
       "       322, 360, 146,  30, 156, 188,  67, 376, 479, 468, 433,  58, 469,\n",
       "       196,  78, 217, 211, 484, 222, 117, 235,  69, 381,   7, 339, 407,\n",
       "       170, 161, 431,  86, 274, 423, 187,  30, 415])"
      ]
     },
     "execution_count": 32,
     "metadata": {},
     "output_type": "execute_result"
    }
   ],
   "source": [
    "#Converting from 3D to 1D\n",
    "arr3 = arr3.reshape(100)\n",
    "arr3"
   ]
  }
 ],
 "metadata": {
  "kernelspec": {
   "display_name": "Python 3",
   "language": "python",
   "name": "python3"
  },
  "language_info": {
   "codemirror_mode": {
    "name": "ipython",
    "version": 3
   },
   "file_extension": ".py",
   "mimetype": "text/x-python",
   "name": "python",
   "nbconvert_exporter": "python",
   "pygments_lexer": "ipython3",
   "version": "3.8.6"
  }
 },
 "nbformat": 4,
 "nbformat_minor": 4
}
